{
 "cells": [
  {
   "cell_type": "markdown",
   "metadata": {},
   "source": [
    "### import\n",
    "\n",
    "We now use Tensorflow and GCN to simplify the problem from regression to classification"
   ]
  },
  {
   "cell_type": "code",
   "execution_count": 1,
   "metadata": {},
   "outputs": [
    {
     "name": "stderr",
     "output_type": "stream",
     "text": [
      "/anaconda/lib/python3.6/importlib/_bootstrap.py:205: RuntimeWarning: compiletime version 3.5 of module 'tensorflow.python.framework.fast_tensor_util' does not match runtime version 3.6\n",
      "  return f(*args, **kwds)\n"
     ]
    }
   ],
   "source": [
    "from __future__ import division\n",
    "from __future__ import print_function\n",
    "\n",
    "import time\n",
    "import tensorflow as tf\n",
    "from gcn.utils import *\n",
    "from gcn.models import Model,MLP\n",
    "from gcn.layers import *\n",
    "\n",
    "import scipy as sp\n",
    "from scipy import sparse\n",
    "import numpy as np\n",
    "import networkx as nx\n",
    "import matplotlib.pyplot as plt"
   ]
  },
  {
   "cell_type": "markdown",
   "metadata": {},
   "source": [
    "#### Return the random partition graph with a partition of sizes. A partition graph is a graph of communities with sizes defined by s in sizes. Nodes in the same group are connected with probability p_in and nodes of different groups are connected with probability p_out."
   ]
  },
  {
   "cell_type": "code",
   "execution_count": 2,
   "metadata": {
    "collapsed": true
   },
   "outputs": [],
   "source": [
    "num_community = 1000\n",
    "node = [10 for i in range(num_community)]\n",
    "GG = nx.random_partition_graph(node,.3,.0,seed=66)\n",
    "adj_GG = np.zeros((num_community, num_community))\n",
    "for edge in GG.edges():\n",
    "    row = edge[0] // num_community\n",
    "    col = edge[1] // num_community\n",
    "    if row != col:\n",
    "        adj_GG[row][col]=1\n",
    "        adj_GG[col][row]=1\n",
    "    \n",
    "adj_sparse = sparse.csr_matrix(adj_GG)"
   ]
  },
  {
   "cell_type": "code",
   "execution_count": 3,
   "metadata": {},
   "outputs": [
    {
     "data": {
      "text/plain": [
       "<1000x1000 sparse matrix of type '<class 'numpy.float64'>'\n",
       "\twith 0 stored elements in Compressed Sparse Row format>"
      ]
     },
     "execution_count": 3,
     "metadata": {},
     "output_type": "execute_result"
    }
   ],
   "source": [
    "adj_sparse"
   ]
  },
  {
   "cell_type": "markdown",
   "metadata": {},
   "source": [
    "#### create subgraph"
   ]
  },
  {
   "cell_type": "code",
   "execution_count": 4,
   "metadata": {
    "collapsed": true
   },
   "outputs": [],
   "source": [
    "partition = GG.graph['partition']"
   ]
  },
  {
   "cell_type": "code",
   "execution_count": 5,
   "metadata": {
    "collapsed": true
   },
   "outputs": [],
   "source": [
    "adjlist = [[]]\n",
    "for i in range(len(partition)):\n",
    "    H = GG.subgraph(partition[i])\n",
    "    adj = nx.adjacency_matrix(H).todense().tolist()\n",
    "    for element in adj:\n",
    "        adjlist[i].extend(element)\n",
    "    adjlist.append([])\n",
    "    \n",
    "adjlist = adjlist[:-1]\n",
    "adj_input = np.array(adjlist)\n",
    "features_sparse = sparse.csr_matrix(adj_input)"
   ]
  },
  {
   "cell_type": "code",
   "execution_count": 6,
   "metadata": {},
   "outputs": [
    {
     "data": {
      "text/plain": [
       "<1000x100 sparse matrix of type '<class 'numpy.int64'>'\n",
       "\twith 27008 stored elements in Compressed Sparse Row format>"
      ]
     },
     "execution_count": 6,
     "metadata": {},
     "output_type": "execute_result"
    }
   ],
   "source": [
    "features_sparse"
   ]
  },
  {
   "cell_type": "code",
   "execution_count": 7,
   "metadata": {
    "collapsed": true
   },
   "outputs": [],
   "source": [
    "path_len = []\n",
    "for i in range(num_community):\n",
    "    try:\n",
    "        path_len.append([nx.shortest_path_length(GG.subgraph(partition[i]), source=np.random.randint(low=i*10,high=(i+1)*10), target=np.random.randint(low=i*10,high=(i+1)*10))])\n",
    "    except:\n",
    "        path_len.append([0])"
   ]
  },
  {
   "cell_type": "code",
   "execution_count": 8,
   "metadata": {
    "collapsed": true
   },
   "outputs": [],
   "source": [
    "Train = []\n",
    "for i in range(int(num_community*0.6)):\n",
    "    Train.append(GG.subgraph(partition[i]))\n",
    "\n",
    "\n",
    "Validation = []\n",
    "for i in range(int(num_community*0.6),int(num_community*0.8)):\n",
    "    Validation.append(GG.subgraph(partition[i]))\n",
    "    \n",
    "    \n",
    "Test = []\n",
    "for i in range(int(num_community*0.8),num_community):\n",
    "    Test.append(GG.subgraph(partition[i]))"
   ]
  },
  {
   "cell_type": "code",
   "execution_count": 9,
   "metadata": {
    "collapsed": true
   },
   "outputs": [],
   "source": [
    "Train_path = path_len[:int(num_community*0.6)]\n",
    "Validation_path = path_len[int(num_community*0.6):int(num_community*0.8)]\n",
    "Test_path = path_len[int(num_community*0.8):]"
   ]
  },
  {
   "cell_type": "markdown",
   "metadata": {},
   "source": [
    "### labels\n",
    "\n",
    "labeled by the shortest path length in subgraph"
   ]
  },
  {
   "cell_type": "code",
   "execution_count": 10,
   "metadata": {
    "collapsed": true
   },
   "outputs": [],
   "source": [
    "# labels \n",
    "Label_Train = np.zeros((int(num_community*0.6),7))\n",
    "Label_Test = np.zeros((int(num_community*0.2),7))\n",
    "Label_Val = np.zeros((int(num_community*0.2),7))\n",
    "\n",
    "\n",
    "for j in range(0,len(Train_path)):\n",
    "    i=Train_path[j][0]\n",
    "    Label_Train[j][i-1] = 1\n",
    "\n",
    "for j in range(0,len(Validation_path)):\n",
    "    i=Validation_path[j][0]\n",
    "    Label_Val[j][i-1] = 1\n",
    "\n",
    "for j in range(0,len(Test_path)):\n",
    "    i=Test_path[j][0]\n",
    "    Label_Test[j][i-1] = 1\n",
    "    \n",
    "label_tv = np.concatenate((Label_Train, Label_Val)) \n",
    "labels = np.concatenate((label_tv, Label_Test)) \n",
    "    \n",
    "label_tv = np.concatenate((Label_Train, Label_Val)) \n",
    "labels = np.concatenate((label_tv, Label_Test)) "
   ]
  },
  {
   "cell_type": "code",
   "execution_count": 11,
   "metadata": {},
   "outputs": [
    {
     "data": {
      "text/plain": [
       "(1000, 7)"
      ]
     },
     "execution_count": 11,
     "metadata": {},
     "output_type": "execute_result"
    }
   ],
   "source": [
    "labels.shape"
   ]
  },
  {
   "cell_type": "markdown",
   "metadata": {},
   "source": [
    "### ytrain yval mask settings"
   ]
  },
  {
   "cell_type": "code",
   "execution_count": 12,
   "metadata": {
    "collapsed": true
   },
   "outputs": [],
   "source": [
    "def sample_mask(idx, l):\n",
    "    \"\"\"Create mask.\"\"\"\n",
    "    mask = np.zeros(l)\n",
    "    mask[idx] = 1\n",
    "    return np.array(mask, dtype=np.bool)\n",
    "\n",
    "\n",
    "# Settings\n",
    "train_size = int(num_community*0.6)\n",
    "val_size = int(num_community*0.2)\n",
    "test_size = int(num_community*0.2)\n",
    "\n",
    "\n",
    "idx_train = range(train_size)\n",
    "idx_val = range(train_size, train_size+val_size)\n",
    "idx_test = range(len(idx_val), len(idx_val)+test_size)\n",
    "\n",
    "\n",
    "train_mask = sample_mask(idx_train, labels.shape[0])\n",
    "val_mask = sample_mask(idx_val, labels.shape[0])\n",
    "test_mask = sample_mask(idx_test, labels.shape[0])\n",
    "\n",
    "y_train = np.zeros(labels.shape)\n",
    "y_val = np.zeros(labels.shape)\n",
    "y_test = np.zeros(labels.shape)\n",
    "y_train[train_mask, :] = labels[train_mask, :]\n",
    "y_val[val_mask, :] = labels[val_mask, :]\n",
    "y_test[test_mask, :] = labels[test_mask, :]"
   ]
  },
  {
   "cell_type": "markdown",
   "metadata": {},
   "source": [
    "### assign value for input"
   ]
  },
  {
   "cell_type": "code",
   "execution_count": 13,
   "metadata": {
    "collapsed": true
   },
   "outputs": [],
   "source": [
    "adj = adj_sparse\n",
    "features = features_sparse   \n",
    "y_train = y_train \n",
    "y_val = y_val\n",
    "train_mask = train_mask\n",
    "val_mask = val_mask"
   ]
  },
  {
   "cell_type": "code",
   "execution_count": null,
   "metadata": {
    "collapsed": true
   },
   "outputs": [],
   "source": []
  },
  {
   "cell_type": "code",
   "execution_count": 14,
   "metadata": {
    "collapsed": true
   },
   "outputs": [],
   "source": [
    "class GCN(Model):\n",
    "    def __init__(self, placeholders, input_dim, **kwargs):\n",
    "        super(GCN, self).__init__(**kwargs)\n",
    "\n",
    "        self.inputs = placeholders['features']\n",
    "        self.input_dim = input_dim\n",
    "        # self.input_dim = self.inputs.get_shape().as_list()[1]  # To be supported in future Tensorflow versions\n",
    "        self.output_dim = placeholders['labels'].get_shape().as_list()[1]\n",
    "        self.placeholders = placeholders\n",
    "\n",
    "        self.optimizer = tf.train.AdamOptimizer(learning_rate=FLAGS.learning_rate)\n",
    "\n",
    "        self.build()\n",
    "\n",
    "    def _loss(self):\n",
    "        # Weight decay loss\n",
    "        for var in self.layers[0].vars.values():\n",
    "            self.loss += FLAGS.weight_decay * tf.nn.l2_loss(var)\n",
    "\n",
    "        # Cross entropy error\n",
    "#         self.loss += masked_mean_square_error(self.outputs, self.placeholders['labels'],\n",
    "#                                               self.placeholders['labels_mask'])\n",
    "        self.loss += masked_softmax_cross_entropy(self.outputs, self.placeholders['labels'],\n",
    "                                                  self.placeholders['labels_mask'])\n",
    "\n",
    "    def _accuracy(self):\n",
    "        self.accuracy = masked_accuracy(self.outputs, self.placeholders['labels'],\n",
    "                                        self.placeholders['labels_mask'])\n",
    "\n",
    "    def _build(self):\n",
    "\n",
    "        self.layers.append(GraphConvolution(input_dim=self.input_dim,\n",
    "                                            output_dim=FLAGS.hidden1,\n",
    "                                            placeholders=self.placeholders,\n",
    "                                            act=tf.nn.relu,\n",
    "                                            dropout=True,\n",
    "                                            sparse_inputs=True,\n",
    "                                            logging=self.logging))\n",
    "\n",
    "        self.layers.append(GraphConvolution(input_dim=FLAGS.hidden1,\n",
    "                                            output_dim=self.output_dim,\n",
    "                                            placeholders=self.placeholders,\n",
    "                                            act=lambda x: x,\n",
    "                                            dropout=True,\n",
    "                                            logging=self.logging))\n",
    "\n",
    "    def predict(self):\n",
    "        return tf.nn.softmax(self.outputs)"
   ]
  },
  {
   "cell_type": "markdown",
   "metadata": {},
   "source": [
    "### support preprocess"
   ]
  },
  {
   "cell_type": "code",
   "execution_count": 15,
   "metadata": {},
   "outputs": [
    {
     "name": "stdout",
     "output_type": "stream",
     "text": [
      "preprocessing has completed!!\n"
     ]
    }
   ],
   "source": [
    "def normalize_adj(adj):\n",
    "    \"\"\"Symmetrically normalize adjacency matrix.\"\"\"\n",
    "    adj = sp.sparse.coo_matrix(adj)\n",
    "    rowsum = np.array(adj.sum(1))\n",
    "    d_inv_sqrt = np.power(rowsum, -0.5).flatten()\n",
    "    d_inv_sqrt[np.isinf(d_inv_sqrt)] = 0.\n",
    "    d_mat_inv_sqrt = sp.sparse.diags(d_inv_sqrt, 0)\n",
    "    return adj.dot(d_mat_inv_sqrt).transpose().dot(d_mat_inv_sqrt).tocoo()\n",
    "\n",
    "\n",
    "def preprocess_adj(adj):\n",
    "    \"\"\"Preprocessing of adjacency matrix for simple GCN model and conversion to tuple representation.\"\"\"\n",
    "    adj_normalized = normalize_adj(adj + sp.sparse.eye(adj.shape[0]))\n",
    "    return sparse_to_tuple(adj_normalized)\n",
    "#     adj_square = np.power(adj,2).tocoo()\n",
    "#     return sparse_to_tuple(adj_square)\n",
    "\n",
    "\n",
    "\n",
    "num_supports = 1\n",
    "model_func = GCN\n",
    "support = [preprocess_adj(adj)]\n",
    "\n",
    "\n",
    "print (\"preprocessing has completed!!\")"
   ]
  },
  {
   "cell_type": "code",
   "execution_count": null,
   "metadata": {
    "collapsed": true
   },
   "outputs": [],
   "source": []
  },
  {
   "cell_type": "markdown",
   "metadata": {},
   "source": [
    "### Preprocess Features!!!!!!!!!!!!"
   ]
  },
  {
   "cell_type": "code",
   "execution_count": 16,
   "metadata": {},
   "outputs": [
    {
     "name": "stdout",
     "output_type": "stream",
     "text": [
      "feature preprocessing has completed!!\n"
     ]
    }
   ],
   "source": [
    "def sparse_to_tuple(sparse_mx):\n",
    "    \"\"\"Convert sparse matrix to tuple representation.\"\"\"\n",
    "    def to_tuple(mx):\n",
    "        if not sp.sparse.isspmatrix_coo(mx):\n",
    "            mx = mx.tocoo()\n",
    "        coords = np.vstack((mx.row, mx.col)).transpose()\n",
    "        values = mx.data\n",
    "        shape = mx.shape\n",
    "        return coords, values, shape\n",
    "\n",
    "    if isinstance(sparse_mx, list):\n",
    "        for i in range(len(sparse_mx)):\n",
    "            sparse_mx[i] = to_tuple(sparse_mx[i])\n",
    "    else:\n",
    "        sparse_mx = to_tuple(sparse_mx)\n",
    "\n",
    "    return sparse_mx\n",
    "\n",
    "\n",
    "def preprocess_features(features):\n",
    "    \"\"\"Row-normalize feature matrix and convert to tuple representation\"\"\"\n",
    "    rowsum = np.array(features.sum(1))\n",
    "    r_inv1 = np.power(rowsum, -0.5).flatten()\n",
    "    r_inv2 = np.power(rowsum, -0.5).flatten()\n",
    "    r_inv = np.multiply(r_inv1, r_inv2)\n",
    "    r_inv[np.isinf(r_inv)] = 0.\n",
    "    r_mat_inv = sp.sparse.diags(r_inv, 0)\n",
    "    features = r_mat_inv.dot(features)\n",
    "    return sparse_to_tuple(features)\n",
    "\n",
    "\n",
    "features = preprocess_features(features)\n",
    "\n",
    "\n",
    "\n",
    "print (\"feature preprocessing has completed!!\")"
   ]
  },
  {
   "cell_type": "code",
   "execution_count": null,
   "metadata": {
    "collapsed": true,
    "scrolled": true
   },
   "outputs": [],
   "source": []
  },
  {
   "cell_type": "code",
   "execution_count": 17,
   "metadata": {
    "collapsed": true
   },
   "outputs": [],
   "source": [
    "def masked_softmax_cross_entropy(preds, labels, mask):\n",
    "    \"\"\"Softmax cross-entropy loss with masking.\"\"\"\n",
    "    loss = tf.nn.softmax_cross_entropy_with_logits(logits=preds, labels=labels)\n",
    "    mask = tf.cast(mask, dtype=tf.float32)\n",
    "    mask /= tf.reduce_mean(mask)\n",
    "    loss *= mask\n",
    "    return tf.reduce_mean(loss)\n",
    "\n",
    "def masked_mean_square_error(preds,labels,mask):\n",
    "    \"\"\" L-2 loss \"\"\"\n",
    "    loss = tf.nn.l2_loss(preds - labels)\n",
    "    mask = tf.cast(mask, dtype=tf.float32)\n",
    "    mask /= tf.reduce_mean(mask)\n",
    "    loss *= mask\n",
    "    return tf.reduce_mean(loss)\n",
    "\n",
    "def masked_accuracy(preds, labels, mask):\n",
    "    \"\"\"Accuracy with masking.\"\"\"\n",
    "    correct_prediction = tf.equal(tf.argmax(preds, 1), tf.argmax(labels, 1))\n",
    "    accuracy_all = tf.cast(correct_prediction, tf.float32)\n",
    "    mask = tf.cast(mask, dtype=tf.float32)\n",
    "    mask /= tf.reduce_mean(mask)\n",
    "    accuracy_all *= mask\n",
    "    return tf.reduce_mean(accuracy_all)"
   ]
  },
  {
   "cell_type": "code",
   "execution_count": null,
   "metadata": {
    "collapsed": true
   },
   "outputs": [],
   "source": []
  },
  {
   "cell_type": "code",
   "execution_count": 18,
   "metadata": {
    "collapsed": true
   },
   "outputs": [],
   "source": [
    "# Set random seed\n",
    "seed = 66\n",
    "np.random.seed(seed)\n",
    "tf.set_random_seed(seed)\n",
    "\n",
    "# Settings\n",
    "flags = tf.app.flags\n",
    "FLAGS = flags.FLAGS\n",
    "\n",
    "\n",
    "flags.DEFINE_string('model', 'gcn', 'Model string.')  # 'gcn', 'gcn_cheby', 'dense'\n",
    "# flags.DEFINE_float('learning_rate', 0.01, 'Initial learning rate.')\n",
    "flags.DEFINE_float('learning_rate', 0.05, 'Initial learning rate.')\n",
    "\n",
    "flags.DEFINE_integer('epochs', 200, 'Number of epochs to train.')\n",
    "flags.DEFINE_integer('hidden1', 1024, 'Number of units in hidden layer 1.')\n",
    "flags.DEFINE_float('dropout', 0.5, 'Dropout rate (1 - keep probability).')\n",
    "# flags.DEFINE_float('dropout', 0., 'Dropout rate (1 - keep probability).')\n",
    "\n",
    "flags.DEFINE_float('weight_decay', 5e-4, 'Weight for L2 loss on embedding matrix.')\n",
    "# flags.DEFINE_float('weight_decay', 0, 'Weight for L2 loss on embedding matrix.')\n",
    "\n",
    "\n",
    "flags.DEFINE_integer('early_stopping', 100, 'Tolerance for early stopping (# of epochs).')\n",
    "flags.DEFINE_integer('max_degree', 3, 'Maximum Chebyshev polynomial degree.')"
   ]
  },
  {
   "cell_type": "code",
   "execution_count": null,
   "metadata": {
    "collapsed": true
   },
   "outputs": [],
   "source": []
  },
  {
   "cell_type": "code",
   "execution_count": 19,
   "metadata": {
    "collapsed": true
   },
   "outputs": [],
   "source": [
    "if FLAGS.model == 'gcn':\n",
    "    support = [preprocess_adj(adj)]\n",
    "    num_supports = 1\n",
    "    model_func = GCN\n",
    "elif FLAGS.model == 'gcn_cheby':\n",
    "    support = chebyshev_polynomials(adj, FLAGS.max_degree)\n",
    "    num_supports = 1 + FLAGS.max_degree\n",
    "    model_func = GCN\n",
    "elif FLAGS.model == 'dense':\n",
    "    support = [preprocess_adj(adj)]  # Not used\n",
    "    num_supports = 1\n",
    "    model_func = MLP\n",
    "else:\n",
    "    raise ValueError('Invalid argument for model: ' + str(FLAGS.model))\n",
    "\n",
    "# Define placeholders\n",
    "placeholders = {\n",
    "    'support': [tf.sparse_placeholder(tf.float32) for _ in range(num_supports)],\n",
    "    'features': tf.sparse_placeholder(tf.float32, shape=tf.constant(features[2], dtype=tf.int64)),\n",
    "    'labels': tf.placeholder(tf.float32, shape=(None, y_train.shape[1])),\n",
    "    'labels_mask': tf.placeholder(tf.int32),\n",
    "    'dropout': tf.placeholder_with_default(0., shape=()),\n",
    "    'num_features_nonzero': tf.placeholder(tf.int32)  # helper variable for sparse dropout\n",
    "}\n",
    "\n",
    "# Create model\n",
    "model = model_func(placeholders, input_dim=features[2][1], logging=True)\n",
    "\n",
    "# Initialize session\n",
    "sess = tf.Session()\n",
    "\n",
    "\n",
    "# Define model evaluation function\n",
    "def evaluate(features, support, labels, mask, placeholders):\n",
    "    t_test = time.time()\n",
    "    feed_dict_val = construct_feed_dict(features, support, labels, mask, placeholders)\n",
    "    outs_val = sess.run([model.loss, model.accuracy], feed_dict=feed_dict_val)\n",
    "    return outs_val[0], outs_val[1], (time.time() - t_test)"
   ]
  },
  {
   "cell_type": "code",
   "execution_count": 20,
   "metadata": {
    "collapsed": true
   },
   "outputs": [],
   "source": [
    "def construct_feed_dict(features, support, labels, labels_mask, placeholders):\n",
    "    \"\"\"Construct feed dictionary.\"\"\"\n",
    "    feed_dict = dict()\n",
    "    feed_dict.update({placeholders['labels']: labels})\n",
    "    feed_dict.update({placeholders['labels_mask']: labels_mask})\n",
    "    feed_dict.update({placeholders['features']: features})\n",
    "    feed_dict.update({placeholders['support'][i]: support[i] for i in range(len(support))})\n",
    "    feed_dict.update({placeholders['num_features_nonzero']: features[1].shape})\n",
    "    return feed_dict"
   ]
  },
  {
   "cell_type": "code",
   "execution_count": null,
   "metadata": {
    "collapsed": true
   },
   "outputs": [],
   "source": []
  },
  {
   "cell_type": "code",
   "execution_count": 21,
   "metadata": {},
   "outputs": [
    {
     "name": "stdout",
     "output_type": "stream",
     "text": [
      "Epoch: 0001 train_loss= 1.99166 train_acc= 0.13000 val_loss= 1.66598 val_acc= 0.25500 time= 0.19536\n",
      "Epoch: 0002 train_loss= 1.61621 train_acc= 0.34333 val_loss= 1.96722 val_acc= 0.25500 time= 0.14587\n",
      "Epoch: 0003 train_loss= 1.82361 train_acc= 0.34500 val_loss= 1.68804 val_acc= 0.37000 time= 0.11707\n",
      "Epoch: 0004 train_loss= 1.69459 train_acc= 0.25500 val_loss= 1.70461 val_acc= 0.19500 time= 0.11852\n",
      "Epoch: 0005 train_loss= 1.66928 train_acc= 0.22167 val_loss= 1.73725 val_acc= 0.15500 time= 0.10904\n",
      "Epoch: 0006 train_loss= 1.65543 train_acc= 0.21833 val_loss= 1.71819 val_acc= 0.24500 time= 0.10805\n",
      "Epoch: 0007 train_loss= 1.61230 train_acc= 0.36167 val_loss= 1.70030 val_acc= 0.25500 time= 0.10302\n",
      "Epoch: 0008 train_loss= 1.58525 train_acc= 0.34833 val_loss= 1.69999 val_acc= 0.26000 time= 0.10101\n",
      "Epoch: 0009 train_loss= 1.58688 train_acc= 0.35167 val_loss= 1.70188 val_acc= 0.25000 time= 0.11645\n",
      "Epoch: 0010 train_loss= 1.58141 train_acc= 0.36667 val_loss= 1.70178 val_acc= 0.27500 time= 0.11466\n",
      "Epoch: 0011 train_loss= 1.56586 train_acc= 0.39000 val_loss= 1.70547 val_acc= 0.28500 time= 0.10058\n",
      "Epoch: 0012 train_loss= 1.55397 train_acc= 0.39000 val_loss= 1.70106 val_acc= 0.29000 time= 0.13990\n",
      "Epoch: 0013 train_loss= 1.54144 train_acc= 0.39000 val_loss= 1.70906 val_acc= 0.28000 time= 0.15784\n",
      "Epoch: 0014 train_loss= 1.55653 train_acc= 0.39000 val_loss= 1.71841 val_acc= 0.30000 time= 0.12150\n",
      "Epoch: 0015 train_loss= 1.52169 train_acc= 0.39833 val_loss= 1.74422 val_acc= 0.28500 time= 0.11973\n",
      "Epoch: 0016 train_loss= 1.55208 train_acc= 0.38500 val_loss= 1.75980 val_acc= 0.31000 time= 0.11453\n",
      "Epoch: 0017 train_loss= 1.55742 train_acc= 0.42500 val_loss= 1.75405 val_acc= 0.33000 time= 0.20615\n",
      "Epoch: 0018 train_loss= 1.55064 train_acc= 0.40000 val_loss= 1.76212 val_acc= 0.31000 time= 0.15774\n",
      "Epoch: 0019 train_loss= 1.53616 train_acc= 0.42667 val_loss= 1.76713 val_acc= 0.29000 time= 0.17627\n",
      "Epoch: 0020 train_loss= 1.55212 train_acc= 0.39500 val_loss= 1.76956 val_acc= 0.31000 time= 0.16718\n",
      "Epoch: 0021 train_loss= 1.52557 train_acc= 0.42333 val_loss= 1.78112 val_acc= 0.30000 time= 0.13962\n",
      "Epoch: 0022 train_loss= 1.55349 train_acc= 0.42833 val_loss= 1.78025 val_acc= 0.28000 time= 0.10394\n",
      "Epoch: 0023 train_loss= 1.52851 train_acc= 0.42500 val_loss= 1.78369 val_acc= 0.28500 time= 0.10694\n",
      "Epoch: 0024 train_loss= 1.54820 train_acc= 0.41333 val_loss= 1.78435 val_acc= 0.29500 time= 0.15877\n",
      "Epoch: 0025 train_loss= 1.55321 train_acc= 0.43833 val_loss= 1.77480 val_acc= 0.30500 time= 0.14249\n",
      "Epoch: 0026 train_loss= 1.54782 train_acc= 0.43500 val_loss= 1.76556 val_acc= 0.31500 time= 0.15915\n",
      "Epoch: 0027 train_loss= 1.50976 train_acc= 0.43833 val_loss= 1.75979 val_acc= 0.31500 time= 0.13742\n",
      "Epoch: 0028 train_loss= 1.53405 train_acc= 0.42667 val_loss= 1.75817 val_acc= 0.34000 time= 0.17305\n",
      "Epoch: 0029 train_loss= 1.52366 train_acc= 0.44500 val_loss= 1.75643 val_acc= 0.34500 time= 0.12174\n",
      "Epoch: 0030 train_loss= 1.53760 train_acc= 0.46167 val_loss= 1.76816 val_acc= 0.34000 time= 0.15720\n",
      "Epoch: 0031 train_loss= 1.55148 train_acc= 0.40167 val_loss= 1.79794 val_acc= 0.30500 time= 0.13088\n",
      "Epoch: 0032 train_loss= 1.57519 train_acc= 0.43167 val_loss= 1.78789 val_acc= 0.35500 time= 0.11910\n",
      "Epoch: 0033 train_loss= 1.53504 train_acc= 0.45833 val_loss= 1.77676 val_acc= 0.36500 time= 0.10848\n",
      "Epoch: 0034 train_loss= 1.58284 train_acc= 0.43833 val_loss= 1.79743 val_acc= 0.34500 time= 0.14602\n",
      "Epoch: 0035 train_loss= 1.52746 train_acc= 0.44500 val_loss= 1.82976 val_acc= 0.34000 time= 0.12347\n",
      "Epoch: 0036 train_loss= 1.53337 train_acc= 0.47333 val_loss= 1.81610 val_acc= 0.36500 time= 0.10794\n",
      "Epoch: 0037 train_loss= 1.57559 train_acc= 0.44833 val_loss= 1.81977 val_acc= 0.37000 time= 0.09934\n",
      "Epoch: 0038 train_loss= 1.55471 train_acc= 0.46833 val_loss= 1.83716 val_acc= 0.33500 time= 0.13530\n",
      "Epoch: 0039 train_loss= 1.57855 train_acc= 0.49333 val_loss= 1.85481 val_acc= 0.32000 time= 0.11151\n",
      "Epoch: 0040 train_loss= 1.59837 train_acc= 0.44667 val_loss= 1.86089 val_acc= 0.30000 time= 0.12501\n",
      "Epoch: 0041 train_loss= 1.57271 train_acc= 0.45333 val_loss= 1.86019 val_acc= 0.30000 time= 0.22483\n",
      "Epoch: 0042 train_loss= 1.55664 train_acc= 0.45667 val_loss= 1.86098 val_acc= 0.32500 time= 0.10698\n",
      "Epoch: 0043 train_loss= 1.56898 train_acc= 0.44667 val_loss= 1.88686 val_acc= 0.28500 time= 0.15741\n",
      "Epoch: 0044 train_loss= 1.56856 train_acc= 0.50667 val_loss= 1.90137 val_acc= 0.28500 time= 0.15862\n",
      "Epoch: 0045 train_loss= 1.53899 train_acc= 0.47000 val_loss= 1.90642 val_acc= 0.31000 time= 0.13081\n",
      "Epoch: 0046 train_loss= 1.55015 train_acc= 0.48500 val_loss= 1.92372 val_acc= 0.29000 time= 0.15066\n",
      "Epoch: 0047 train_loss= 1.54684 train_acc= 0.49333 val_loss= 1.94170 val_acc= 0.31500 time= 0.21095\n",
      "Epoch: 0048 train_loss= 1.54624 train_acc= 0.47833 val_loss= 1.93207 val_acc= 0.29500 time= 0.13274\n",
      "Epoch: 0049 train_loss= 1.55688 train_acc= 0.51167 val_loss= 1.94429 val_acc= 0.30500 time= 0.13723\n",
      "Epoch: 0050 train_loss= 1.53563 train_acc= 0.52667 val_loss= 1.96503 val_acc= 0.29500 time= 0.16028\n",
      "Epoch: 0051 train_loss= 1.55085 train_acc= 0.47667 val_loss= 1.95438 val_acc= 0.28000 time= 0.12902\n",
      "Epoch: 0052 train_loss= 1.58688 train_acc= 0.48000 val_loss= 1.95894 val_acc= 0.27000 time= 0.12073\n",
      "Epoch: 0053 train_loss= 1.62628 train_acc= 0.46167 val_loss= 1.97319 val_acc= 0.28000 time= 0.14040\n",
      "Epoch: 0054 train_loss= 1.59068 train_acc= 0.48667 val_loss= 1.98609 val_acc= 0.29000 time= 0.14965\n",
      "Epoch: 0055 train_loss= 1.56793 train_acc= 0.49667 val_loss= 2.01560 val_acc= 0.27000 time= 0.14234\n",
      "Epoch: 0056 train_loss= 1.58194 train_acc= 0.47667 val_loss= 1.99317 val_acc= 0.28500 time= 0.12429\n",
      "Epoch: 0057 train_loss= 1.55288 train_acc= 0.53167 val_loss= 1.98657 val_acc= 0.30000 time= 0.10930\n",
      "Epoch: 0058 train_loss= 1.57344 train_acc= 0.52000 val_loss= 1.97972 val_acc= 0.29000 time= 0.13491\n",
      "Epoch: 0059 train_loss= 1.56027 train_acc= 0.51333 val_loss= 1.98699 val_acc= 0.27500 time= 0.10830\n",
      "Epoch: 0060 train_loss= 1.55593 train_acc= 0.52500 val_loss= 1.99009 val_acc= 0.27000 time= 0.12686\n",
      "Epoch: 0061 train_loss= 1.57202 train_acc= 0.52833 val_loss= 1.99051 val_acc= 0.28000 time= 0.15241\n",
      "Epoch: 0062 train_loss= 1.59892 train_acc= 0.48500 val_loss= 2.00006 val_acc= 0.33000 time= 0.16313\n",
      "Epoch: 0063 train_loss= 1.56642 train_acc= 0.52667 val_loss= 2.02185 val_acc= 0.31500 time= 0.12459\n",
      "Epoch: 0064 train_loss= 1.59077 train_acc= 0.50167 val_loss= 2.01916 val_acc= 0.31500 time= 0.12068\n",
      "Epoch: 0065 train_loss= 1.56029 train_acc= 0.53833 val_loss= 2.02972 val_acc= 0.30500 time= 0.10292\n",
      "Epoch: 0066 train_loss= 1.56989 train_acc= 0.50500 val_loss= 2.03806 val_acc= 0.27000 time= 0.14006\n",
      "Epoch: 0067 train_loss= 1.55767 train_acc= 0.51667 val_loss= 2.06437 val_acc= 0.27000 time= 0.15276\n",
      "Epoch: 0068 train_loss= 1.58332 train_acc= 0.50667 val_loss= 2.07095 val_acc= 0.30000 time= 0.16953\n",
      "Epoch: 0069 train_loss= 1.59104 train_acc= 0.50667 val_loss= 2.05451 val_acc= 0.28500 time= 0.16438\n",
      "Epoch: 0070 train_loss= 1.57364 train_acc= 0.53833 val_loss= 2.06005 val_acc= 0.31000 time= 0.11108\n",
      "Epoch: 0071 train_loss= 1.58242 train_acc= 0.50667 val_loss= 2.03904 val_acc= 0.31500 time= 0.10680\n",
      "Epoch: 0072 train_loss= 1.56465 train_acc= 0.52333 val_loss= 2.01385 val_acc= 0.30500 time= 0.13047\n",
      "Epoch: 0073 train_loss= 1.58678 train_acc= 0.52500 val_loss= 2.03089 val_acc= 0.32500 time= 0.10944\n",
      "Epoch: 0074 train_loss= 1.59476 train_acc= 0.53667 val_loss= 2.04652 val_acc= 0.29000 time= 0.16237\n",
      "Epoch: 0075 train_loss= 1.61504 train_acc= 0.52167 val_loss= 2.02106 val_acc= 0.33000 time= 0.15325\n",
      "Epoch: 0076 train_loss= 1.59726 train_acc= 0.50833 val_loss= 2.03363 val_acc= 0.32000 time= 0.14666\n",
      "Epoch: 0077 train_loss= 1.60337 train_acc= 0.50000 val_loss= 2.06932 val_acc= 0.26000 time= 0.10875\n",
      "Epoch: 0078 train_loss= 1.62379 train_acc= 0.50000 val_loss= 2.08037 val_acc= 0.29000 time= 0.12264\n",
      "Epoch: 0079 train_loss= 1.57896 train_acc= 0.53333 val_loss= 2.07417 val_acc= 0.32000 time= 0.10822\n",
      "Epoch: 0080 train_loss= 1.57852 train_acc= 0.53833 val_loss= 2.08757 val_acc= 0.32000 time= 0.12787\n",
      "Epoch: 0081 train_loss= 1.61931 train_acc= 0.52667 val_loss= 2.07151 val_acc= 0.31000 time= 0.14167\n",
      "Epoch: 0082 train_loss= 1.61487 train_acc= 0.51833 val_loss= 2.09247 val_acc= 0.29000 time= 0.16632\n"
     ]
    },
    {
     "name": "stdout",
     "output_type": "stream",
     "text": [
      "Epoch: 0083 train_loss= 1.57947 train_acc= 0.54167 val_loss= 2.12602 val_acc= 0.28000 time= 0.13265\n",
      "Epoch: 0084 train_loss= 1.59623 train_acc= 0.51000 val_loss= 2.08237 val_acc= 0.29000 time= 0.12426\n",
      "Epoch: 0085 train_loss= 1.57297 train_acc= 0.54167 val_loss= 2.08111 val_acc= 0.28000 time= 0.10490\n",
      "Epoch: 0086 train_loss= 1.60042 train_acc= 0.51667 val_loss= 2.11711 val_acc= 0.27000 time= 0.15541\n",
      "Epoch: 0087 train_loss= 1.58412 train_acc= 0.57167 val_loss= 2.17390 val_acc= 0.28500 time= 0.15572\n",
      "Epoch: 0088 train_loss= 1.60808 train_acc= 0.53000 val_loss= 2.14434 val_acc= 0.29000 time= 0.17320\n",
      "Epoch: 0089 train_loss= 1.59600 train_acc= 0.52500 val_loss= 2.09588 val_acc= 0.27500 time= 0.12182\n",
      "Epoch: 0090 train_loss= 1.65821 train_acc= 0.50500 val_loss= 2.10672 val_acc= 0.29000 time= 0.12645\n",
      "Epoch: 0091 train_loss= 1.59841 train_acc= 0.52167 val_loss= 2.12757 val_acc= 0.30000 time= 0.11515\n",
      "Epoch: 0092 train_loss= 1.59365 train_acc= 0.56833 val_loss= 2.14207 val_acc= 0.28000 time= 0.12970\n",
      "Epoch: 0093 train_loss= 1.58704 train_acc= 0.55000 val_loss= 2.11333 val_acc= 0.28000 time= 0.10922\n",
      "Epoch: 0094 train_loss= 1.59238 train_acc= 0.54500 val_loss= 2.09225 val_acc= 0.32000 time= 0.12490\n",
      "Epoch: 0095 train_loss= 1.56747 train_acc= 0.55167 val_loss= 2.09774 val_acc= 0.29500 time= 0.15480\n",
      "Epoch: 0096 train_loss= 1.56954 train_acc= 0.56333 val_loss= 2.11725 val_acc= 0.30000 time= 0.15260\n",
      "Epoch: 0097 train_loss= 1.58968 train_acc= 0.57500 val_loss= 2.11845 val_acc= 0.30500 time= 0.13981\n",
      "Epoch: 0098 train_loss= 1.62508 train_acc= 0.50833 val_loss= 2.09615 val_acc= 0.32500 time= 0.14908\n",
      "Epoch: 0099 train_loss= 1.59334 train_acc= 0.54500 val_loss= 2.10624 val_acc= 0.32000 time= 0.13982\n",
      "Epoch: 0100 train_loss= 1.64098 train_acc= 0.53667 val_loss= 2.12325 val_acc= 0.31500 time= 0.16161\n",
      "Epoch: 0101 train_loss= 1.65860 train_acc= 0.52167 val_loss= 2.11174 val_acc= 0.34500 time= 0.14527\n",
      "Epoch: 0102 train_loss= 1.60659 train_acc= 0.53833 val_loss= 2.11584 val_acc= 0.33500 time= 0.14648\n",
      "Early stopping...\n",
      "Optimization Finished!\n"
     ]
    }
   ],
   "source": [
    "# Initialize weights not L2 loss\n",
    "sess.run(tf.global_variables_initializer())\n",
    "\n",
    "train_loss = []\n",
    "validation_loss = []\n",
    "train_accuracy = []\n",
    "validation_accuracy = []\n",
    "\n",
    "\n",
    "# Train model\n",
    "for epoch in range(FLAGS.epochs):\n",
    "\n",
    "    t = time.time()\n",
    "    # Construct feed dictionary\n",
    "    feed_dict = construct_feed_dict(features, support, y_train, train_mask, placeholders)\n",
    "    feed_dict.update({placeholders['dropout']: FLAGS.dropout})\n",
    "\n",
    "    # Training step\n",
    "    outs = sess.run([model.opt_op, model.loss, model.accuracy], feed_dict=feed_dict)\n",
    "    \n",
    "    # Validation\n",
    "    cost, acc, duration = evaluate(features, support, y_val, val_mask, placeholders)\n",
    "    validation_loss.append(cost)\n",
    "    validation_accuracy.append(acc)\n",
    "    train_loss.append(outs[1])\n",
    "    train_accuracy.append(outs[2])\n",
    "\n",
    "#     Print results\n",
    "    print(\"Epoch:\", '%04d' % (epoch + 1), \"train_loss=\", \"{:.5f}\".format(outs[1]),\n",
    "          \"train_acc=\", \"{:.5f}\".format(outs[2]), \"val_loss=\", \"{:.5f}\".format(cost),\n",
    "          \"val_acc=\", \"{:.5f}\".format(acc), \"time=\", \"{:.5f}\".format(time.time() - t))\n",
    "\n",
    "    if epoch > FLAGS.early_stopping and validation_loss[-1] > np.mean(validation_loss[-(FLAGS.early_stopping+1):-1]):\n",
    "        print(\"Early stopping...\")\n",
    "        break\n",
    "\n",
    "print(\"Optimization Finished!\")"
   ]
  },
  {
   "cell_type": "code",
   "execution_count": 22,
   "metadata": {},
   "outputs": [
    {
     "data": {
      "image/png": "[encoded data removed]",
      "text/plain": [
       "<matplotlib.figure.Figure at 0x1260bb978>"
      ]
     },
     "metadata": {},
     "output_type": "display_data"
    }
   ],
   "source": [
    "import matplotlib.pyplot as plt\n",
    "plt.figure(figsize=(8,6))\n",
    "plt.plot(train_accuracy,label = 'train_accuracy')\n",
    "plt.plot(train_loss,label = 'train_loss')\n",
    "plt.plot(validation_accuracy, label='validation_accuracy')\n",
    "plt.plot(validation_loss,label='validaton_loss')\n",
    "plt.legend(loc=1)\n",
    "axes = plt.gca()\n",
    "# axes.set_ylim([0,1])\n",
    "# plt.savefig('gcn.svg', format='svg')\n",
    "plt.show()"
   ]
  },
  {
   "cell_type": "code",
   "execution_count": 23,
   "metadata": {},
   "outputs": [
    {
     "name": "stdout",
     "output_type": "stream",
     "text": [
      "Test set results: cost= 1.33465 accuracy= 0.74500 time= 0.03698\n"
     ]
    }
   ],
   "source": [
    "# Testing\n",
    "test_cost, test_acc, test_duration = evaluate(features, support, y_test, test_mask, placeholders)\n",
    "print(\"Test set results:\", \"cost=\", \"{:.5f}\".format(test_cost),\n",
    "      \"accuracy=\", \"{:.5f}\".format(test_acc), \"time=\", \"{:.5f}\".format(test_duration))"
   ]
  },
  {
   "cell_type": "code",
   "execution_count": null,
   "metadata": {
    "collapsed": true
   },
   "outputs": [],
   "source": []
  },
  {
   "cell_type": "code",
   "execution_count": null,
   "metadata": {
    "collapsed": true
   },
   "outputs": [],
   "source": []
  },
  {
   "cell_type": "code",
   "execution_count": null,
   "metadata": {
    "collapsed": true
   },
   "outputs": [],
   "source": []
  },
  {
   "cell_type": "code",
   "execution_count": null,
   "metadata": {
    "collapsed": true
   },
   "outputs": [],
   "source": []
  },
  {
   "cell_type": "code",
   "execution_count": null,
   "metadata": {
    "collapsed": true
   },
   "outputs": [],
   "source": []
  },
  {
   "cell_type": "code",
   "execution_count": null,
   "metadata": {
    "collapsed": true
   },
   "outputs": [],
   "source": []
  },
  {
   "cell_type": "code",
   "execution_count": null,
   "metadata": {
    "collapsed": true
   },
   "outputs": [],
   "source": []
  },
  {
   "cell_type": "code",
   "execution_count": null,
   "metadata": {
    "collapsed": true
   },
   "outputs": [],
   "source": []
  },
  {
   "cell_type": "code",
   "execution_count": null,
   "metadata": {
    "collapsed": true
   },
   "outputs": [],
   "source": []
  },
  {
   "cell_type": "code",
   "execution_count": null,
   "metadata": {
    "collapsed": true
   },
   "outputs": [],
   "source": []
  }
 ],
 "metadata": {
  "kernelspec": {
   "display_name": "Python 3",
   "language": "python",
   "name": "python3"
  },
  "language_info": {
   "codemirror_mode": {
    "name": "ipython",
    "version": 3
   },
   "file_extension": ".py",
   "mimetype": "text/x-python",
   "name": "python",
   "nbconvert_exporter": "python",
   "pygments_lexer": "ipython3",
   "version": "3.6.1"
  }
 },
 "nbformat": 4,
 "nbformat_minor": 2
}
